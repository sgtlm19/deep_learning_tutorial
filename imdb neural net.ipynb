{
 "cells": [
  {
   "cell_type": "code",
   "execution_count": 1,
   "metadata": {},
   "outputs": [
    {
     "name": "stderr",
     "output_type": "stream",
     "text": [
      "Using TensorFlow backend.\n"
     ]
    },
    {
     "name": "stdout",
     "output_type": "stream",
     "text": [
      "Downloading data from https://s3.amazonaws.com/text-datasets/imdb.npz\n",
      "17465344/17464789 [==============================] - 0s 0us/step\n",
      "17473536/17464789 [==============================] - 0s 0us/step\n"
     ]
    }
   ],
   "source": [
    "from keras.datasets import imdb\n",
    "\n",
    "(train_data, train_labels), (test_data, test_labels) = imdb.load_data(num_words = 10000)"
   ]
  },
  {
   "cell_type": "code",
   "execution_count": 2,
   "metadata": {},
   "outputs": [
    {
     "data": {
      "text/plain": [
       "[1, 14, 22, 16, 43, 530, 973, 1622, 1385, 65]"
      ]
     },
     "execution_count": 2,
     "metadata": {},
     "output_type": "execute_result"
    }
   ],
   "source": [
    "train_data[0][:10]"
   ]
  },
  {
   "cell_type": "code",
   "execution_count": 3,
   "metadata": {},
   "outputs": [
    {
     "data": {
      "text/plain": [
       "1"
      ]
     },
     "execution_count": 3,
     "metadata": {},
     "output_type": "execute_result"
    }
   ],
   "source": [
    "train_labels[0]"
   ]
  },
  {
   "cell_type": "code",
   "execution_count": 4,
   "metadata": {},
   "outputs": [],
   "source": [
    "import numpy as np\n",
    "\n",
    "def vectorize_sequence(sequence, dimension=10000):\n",
    "    results = np.zeros((len(sequence), dimension))\n",
    "    for i, sequence in enumerate(sequence):\n",
    "        results[i, sequence] = 1\n",
    "    return results\n",
    "\n",
    "x_train = vectorize_sequence(train_data)\n",
    "x_test = vectorize_sequence(test_data)"
   ]
  },
  {
   "cell_type": "code",
   "execution_count": 5,
   "metadata": {},
   "outputs": [],
   "source": [
    "y_train = np.asarray(train_labels).astype('float32')\n",
    "y_test = np.asarray(test_labels).astype('float32')"
   ]
  },
  {
   "cell_type": "code",
   "execution_count": 6,
   "metadata": {},
   "outputs": [],
   "source": [
    "from keras import models\n",
    "from keras import layers\n",
    "\n",
    "model = models.Sequential()\n",
    "model.add(layers.Dense(16, activation='relu', input_shape=(10000,)))\n",
    "model.add(layers.Dense(16, activation='relu'))\n",
    "model.add(layers.Dense(1, activation='sigmoid'))"
   ]
  },
  {
   "cell_type": "code",
   "execution_count": 7,
   "metadata": {},
   "outputs": [],
   "source": [
    "model.compile(optimizer='rmsprop',\n",
    "              loss='binary_crossentropy',\n",
    "              metrics=['accuracy'])"
   ]
  },
  {
   "cell_type": "code",
   "execution_count": 8,
   "metadata": {},
   "outputs": [],
   "source": [
    "from keras import optimizers\n",
    "\n",
    "model.compile(optimizer=optimizers.RMSprop(lr=0.001),\n",
    "              loss='binary_crossentropy',\n",
    "              metrics=['accuracy'])"
   ]
  },
  {
   "cell_type": "code",
   "execution_count": 9,
   "metadata": {},
   "outputs": [],
   "source": [
    "x_val = x_train[:10000]\n",
    "partial_x_train = x_train[10000:]\n",
    "\n",
    "y_val = y_train[:10000]\n",
    "partial_y_train = y_train[10000:]"
   ]
  },
  {
   "cell_type": "code",
   "execution_count": 10,
   "metadata": {},
   "outputs": [
    {
     "name": "stdout",
     "output_type": "stream",
     "text": [
      "Train on 15000 samples, validate on 10000 samples\n",
      "Epoch 1/20\n",
      "15000/15000 [==============================] - 4s 257us/step - loss: 0.5201 - accuracy: 0.7857 - val_loss: 0.4009 - val_accuracy: 0.8593\n",
      "Epoch 2/20\n",
      "15000/15000 [==============================] - 2s 138us/step - loss: 0.3089 - accuracy: 0.9043 - val_loss: 0.3046 - val_accuracy: 0.8892\n",
      "Epoch 3/20\n",
      "15000/15000 [==============================] - 2s 139us/step - loss: 0.2235 - accuracy: 0.9273 - val_loss: 0.2794 - val_accuracy: 0.8900\n",
      "Epoch 4/20\n",
      "15000/15000 [==============================] - 2s 135us/step - loss: 0.1803 - accuracy: 0.9380 - val_loss: 0.2851 - val_accuracy: 0.8857\n",
      "Epoch 5/20\n",
      "15000/15000 [==============================] - 2s 138us/step - loss: 0.1442 - accuracy: 0.9544 - val_loss: 0.2789 - val_accuracy: 0.8884\n",
      "Epoch 6/20\n",
      "15000/15000 [==============================] - 2s 137us/step - loss: 0.1242 - accuracy: 0.9596 - val_loss: 0.3081 - val_accuracy: 0.8828\n",
      "Epoch 7/20\n",
      "15000/15000 [==============================] - 3s 168us/step - loss: 0.0983 - accuracy: 0.9712 - val_loss: 0.3317 - val_accuracy: 0.8769\n",
      "Epoch 8/20\n",
      "15000/15000 [==============================] - 2s 145us/step - loss: 0.0844 - accuracy: 0.9765 - val_loss: 0.3246 - val_accuracy: 0.8832\n",
      "Epoch 9/20\n",
      "15000/15000 [==============================] - 2s 136us/step - loss: 0.0692 - accuracy: 0.9815 - val_loss: 0.3650 - val_accuracy: 0.8789\n",
      "Epoch 10/20\n",
      "15000/15000 [==============================] - 2s 136us/step - loss: 0.0560 - accuracy: 0.9865 - val_loss: 0.3754 - val_accuracy: 0.8781\n",
      "Epoch 11/20\n",
      "15000/15000 [==============================] - 2s 135us/step - loss: 0.0461 - accuracy: 0.9884 - val_loss: 0.4122 - val_accuracy: 0.8767\n",
      "Epoch 12/20\n",
      "15000/15000 [==============================] - 2s 136us/step - loss: 0.0378 - accuracy: 0.9915 - val_loss: 0.4429 - val_accuracy: 0.8695\n",
      "Epoch 13/20\n",
      "15000/15000 [==============================] - 2s 136us/step - loss: 0.0289 - accuracy: 0.9940 - val_loss: 0.4698 - val_accuracy: 0.8714\n",
      "Epoch 14/20\n",
      "15000/15000 [==============================] - 2s 138us/step - loss: 0.0225 - accuracy: 0.9962 - val_loss: 0.5367 - val_accuracy: 0.8622\n",
      "Epoch 15/20\n",
      "15000/15000 [==============================] - 2s 136us/step - loss: 0.0188 - accuracy: 0.9967 - val_loss: 0.5387 - val_accuracy: 0.8721\n",
      "Epoch 16/20\n",
      "15000/15000 [==============================] - 2s 137us/step - loss: 0.0141 - accuracy: 0.9985 - val_loss: 0.5775 - val_accuracy: 0.8681\n",
      "Epoch 17/20\n",
      "15000/15000 [==============================] - 2s 138us/step - loss: 0.0102 - accuracy: 0.9991 - val_loss: 0.6193 - val_accuracy: 0.8669\n",
      "Epoch 18/20\n",
      "15000/15000 [==============================] - 2s 138us/step - loss: 0.0110 - accuracy: 0.9977 - val_loss: 0.6583 - val_accuracy: 0.8679\n",
      "Epoch 19/20\n",
      "15000/15000 [==============================] - 2s 136us/step - loss: 0.0046 - accuracy: 0.9999 - val_loss: 0.6852 - val_accuracy: 0.8644\n",
      "Epoch 20/20\n",
      "15000/15000 [==============================] - 2s 137us/step - loss: 0.0070 - accuracy: 0.9989 - val_loss: 0.7335 - val_accuracy: 0.8656\n"
     ]
    }
   ],
   "source": [
    "history = model.fit(partial_x_train,\n",
    "                    partial_y_train,\n",
    "                    epochs=20,\n",
    "                    batch_size=512,\n",
    "                    validation_data=(x_val, y_val))"
   ]
  },
  {
   "cell_type": "code",
   "execution_count": 12,
   "metadata": {},
   "outputs": [
    {
     "data": {
      "image/png": "[encoded data removed]",
      "text/plain": [
       "<Figure size 432x288 with 1 Axes>"
      ]
     },
     "metadata": {
      "needs_background": "light"
     },
     "output_type": "display_data"
    }
   ],
   "source": [
    "import matplotlib.pyplot as plt\n",
    "\n",
    "history_dict = history.history\n",
    "loss_values = history_dict['loss']\n",
    "val_loss_values = history_dict['val_loss']\n",
    "acc = history_dict['accuracy']\n",
    "\n",
    "epochs = range(1, len(acc) + 1)\n",
    "\n",
    "plt.plot(epochs, loss_values, 'bo', label='Training loss')\n",
    "plt.plot(epochs, val_loss_values, 'b', label='Validation loss')\n",
    "plt.title('Training and validation loss')\n",
    "plt.xlabel('Epochs')\n",
    "plt.ylabel('Loss')\n",
    "plt.legend()\n",
    "\n",
    "plt.show()"
   ]
  },
  {
   "cell_type": "code",
   "execution_count": 13,
   "metadata": {},
   "outputs": [
    {
     "data": {
      "text/plain": [
       "['loss', 'val_accuracy', 'val_loss', 'accuracy']"
      ]
     },
     "execution_count": 13,
     "metadata": {},
     "output_type": "execute_result"
    }
   ],
   "source": [
    "history_dict.keys()"
   ]
  },
  {
   "cell_type": "code",
   "execution_count": 14,
   "metadata": {},
   "outputs": [
    {
     "data": {
      "image/png": "[encoded data removed]",
      "text/plain": [
       "<Figure size 432x288 with 1 Axes>"
      ]
     },
     "metadata": {
      "needs_background": "light"
     },
     "output_type": "display_data"
    }
   ],
   "source": [
    "val_acc_values = history_dict['val_accuracy']\n",
    "\n",
    "plt.plot(epochs, acc, 'bo', label='Training acc')\n",
    "plt.plot(epochs, val_acc_values, 'b', label='Validation acc')\n",
    "plt.title('Training and validation accuracy')\n",
    "plt.xlabel('Epochs')\n",
    "plt.ylabel('Loss')\n",
    "plt.legend()\n",
    "\n",
    "plt.show()"
   ]
  },
  {
   "cell_type": "code",
   "execution_count": 15,
   "metadata": {},
   "outputs": [
    {
     "name": "stdout",
     "output_type": "stream",
     "text": [
      "Downloading data from https://s3.amazonaws.com/text-datasets/reuters.npz\n",
      "2113536/2110848 [==============================] - 0s 0us/step\n",
      "2121728/2110848 [==============================] - 0s 0us/step\n"
     ]
    }
   ],
   "source": [
    "from keras.datasets import reuters\n",
    "\n",
    "(reuters_train_data, reuters_train_labels), (reuters_test_data, reuters_test_labels) = reuters.load_data(num_words=10000)\n",
    "\n"
   ]
  },
  {
   "cell_type": "code",
   "execution_count": 16,
   "metadata": {},
   "outputs": [
    {
     "name": "stdout",
     "output_type": "stream",
     "text": [
      "8982\n",
      "2246\n"
     ]
    }
   ],
   "source": [
    "print(len(reuters_train_data))\n",
    "print(len(reuters_test_data))"
   ]
  },
  {
   "cell_type": "code",
   "execution_count": 17,
   "metadata": {},
   "outputs": [
    {
     "data": {
      "text/plain": [
       "[1, 2, 2, 8, 43, 10, 447, 5, 25, 207]"
      ]
     },
     "execution_count": 17,
     "metadata": {},
     "output_type": "execute_result"
    }
   ],
   "source": [
    "reuters_train_data[0][:10]"
   ]
  },
  {
   "cell_type": "code",
   "execution_count": 18,
   "metadata": {},
   "outputs": [],
   "source": [
    "reuters_x_train = vectorize_sequence(reuters_train_data)\n",
    "reuters_x_test = vectorize_sequence(reuters_test_data)"
   ]
  },
  {
   "cell_type": "code",
   "execution_count": 19,
   "metadata": {},
   "outputs": [],
   "source": [
    "def to_one_hot(labels, dimension=46):\n",
    "    results = np.zeros((len(labels), dimension))\n",
    "    for i, label in enumerate(labels):\n",
    "        results[i, label] = 1\n",
    "    return results\n",
    "\n",
    "one_hot_train_reuters_labels = to_one_hot(reuters_train_labels)\n",
    "on_hot_test_reuters_labels = to_one_hot(reuters_test_labels)"
   ]
  },
  {
   "cell_type": "code",
   "execution_count": 20,
   "metadata": {},
   "outputs": [],
   "source": [
    "reuters_model = models.Sequential()\n",
    "reuters_model.add(layers.Dense(64, activation='relu', input_shape=(10000, )))\n",
    "reuters_model.add(layers.Dense(64, activation='relu'))\n",
    "reuters_model.add(layers.Dense(46, activation='softmax'))"
   ]
  },
  {
   "cell_type": "code",
   "execution_count": 21,
   "metadata": {},
   "outputs": [],
   "source": [
    "reuters_model.compile(optimizer='rmsprop',\n",
    "                      loss='categorical_crossentropy',\n",
    "                      metrics=['accuracy'])"
   ]
  },
  {
   "cell_type": "code",
   "execution_count": 22,
   "metadata": {},
   "outputs": [],
   "source": [
    "reuters_x_val = reuters_x_train[:1000]\n",
    "reuters_partial_x_train = reuters_x_train[1000:]\n",
    "\n",
    "reuters_y_val = one_hot_train_reuters_labels[:1000]\n",
    "reuters_partial_y_train = one_hot_train_reuters_labels[1000:]"
   ]
  },
  {
   "cell_type": "code",
   "execution_count": 23,
   "metadata": {},
   "outputs": [
    {
     "name": "stdout",
     "output_type": "stream",
     "text": [
      "Train on 7982 samples, validate on 1000 samples\n",
      "Epoch 1/20\n",
      "7982/7982 [==============================] - 1s 167us/step - loss: 2.7023 - accuracy: 0.4654 - val_loss: 1.7887 - val_accuracy: 0.6440\n",
      "Epoch 2/20\n",
      "7982/7982 [==============================] - 1s 134us/step - loss: 1.4470 - accuracy: 0.7067 - val_loss: 1.3067 - val_accuracy: 0.7090\n",
      "Epoch 3/20\n",
      "7982/7982 [==============================] - 1s 132us/step - loss: 1.0388 - accuracy: 0.7824 - val_loss: 1.1220 - val_accuracy: 0.7690\n",
      "Epoch 4/20\n",
      "7982/7982 [==============================] - 1s 131us/step - loss: 0.8052 - accuracy: 0.8309 - val_loss: 1.0143 - val_accuracy: 0.7900\n",
      "Epoch 5/20\n",
      "7982/7982 [==============================] - 1s 131us/step - loss: 0.6367 - accuracy: 0.8696 - val_loss: 0.9417 - val_accuracy: 0.8070\n",
      "Epoch 6/20\n",
      "7982/7982 [==============================] - 1s 131us/step - loss: 0.5082 - accuracy: 0.8973 - val_loss: 0.9168 - val_accuracy: 0.8110\n",
      "Epoch 7/20\n",
      "7982/7982 [==============================] - 1s 132us/step - loss: 0.4105 - accuracy: 0.9156 - val_loss: 0.9033 - val_accuracy: 0.8130\n",
      "Epoch 8/20\n",
      "7982/7982 [==============================] - 1s 131us/step - loss: 0.3300 - accuracy: 0.9305 - val_loss: 0.9158 - val_accuracy: 0.8050\n",
      "Epoch 9/20\n",
      "7982/7982 [==============================] - 1s 134us/step - loss: 0.2766 - accuracy: 0.9387 - val_loss: 0.9098 - val_accuracy: 0.8030\n",
      "Epoch 10/20\n",
      "7982/7982 [==============================] - 1s 130us/step - loss: 0.2320 - accuracy: 0.9466 - val_loss: 0.9317 - val_accuracy: 0.8150\n",
      "Epoch 11/20\n",
      "7982/7982 [==============================] - 1s 131us/step - loss: 0.2048 - accuracy: 0.9504 - val_loss: 0.9398 - val_accuracy: 0.8040\n",
      "Epoch 12/20\n",
      "7982/7982 [==============================] - 1s 133us/step - loss: 0.1793 - accuracy: 0.9519 - val_loss: 0.9423 - val_accuracy: 0.8120\n",
      "Epoch 13/20\n",
      "7982/7982 [==============================] - 1s 131us/step - loss: 0.1602 - accuracy: 0.9534 - val_loss: 0.9665 - val_accuracy: 0.8190\n",
      "Epoch 14/20\n",
      "7982/7982 [==============================] - 1s 130us/step - loss: 0.1526 - accuracy: 0.9533 - val_loss: 1.0265 - val_accuracy: 0.7990\n",
      "Epoch 15/20\n",
      "7982/7982 [==============================] - 1s 130us/step - loss: 0.1370 - accuracy: 0.9550 - val_loss: 1.0893 - val_accuracy: 0.7880\n",
      "Epoch 16/20\n",
      "7982/7982 [==============================] - 1s 133us/step - loss: 0.1333 - accuracy: 0.9549 - val_loss: 1.0279 - val_accuracy: 0.8130\n",
      "Epoch 17/20\n",
      "7982/7982 [==============================] - 1s 131us/step - loss: 0.1221 - accuracy: 0.9578 - val_loss: 1.0801 - val_accuracy: 0.7930\n",
      "Epoch 18/20\n",
      "7982/7982 [==============================] - 1s 131us/step - loss: 0.1227 - accuracy: 0.9570 - val_loss: 1.0322 - val_accuracy: 0.8060\n",
      "Epoch 19/20\n",
      "7982/7982 [==============================] - 1s 129us/step - loss: 0.1147 - accuracy: 0.9584 - val_loss: 1.0795 - val_accuracy: 0.8050\n",
      "Epoch 20/20\n",
      "7982/7982 [==============================] - 1s 128us/step - loss: 0.1102 - accuracy: 0.9575 - val_loss: 1.1623 - val_accuracy: 0.7880\n"
     ]
    }
   ],
   "source": [
    "reuters_model_history = reuters_model.fit(reuters_partial_x_train,\n",
    "                                          reuters_partial_y_train,\n",
    "                                          epochs=20,\n",
    "                                          batch_size=512,\n",
    "                                          validation_data=(reuters_x_val, reuters_y_val))"
   ]
  },
  {
   "cell_type": "code",
   "execution_count": 26,
   "metadata": {},
   "outputs": [
    {
     "data": {
      "text/plain": [
       "['loss', 'val_accuracy', 'val_loss', 'accuracy']"
      ]
     },
     "execution_count": 26,
     "metadata": {},
     "output_type": "execute_result"
    }
   ],
   "source": [
    "reuters_model_history.history.keys()"
   ]
  },
  {
   "cell_type": "code",
   "execution_count": 27,
   "metadata": {},
   "outputs": [
    {
     "data": {
      "image/png": "[encoded data removed]",
      "text/plain": [
       "<Figure size 432x288 with 1 Axes>"
      ]
     },
     "metadata": {
      "needs_background": "light"
     },
     "output_type": "display_data"
    }
   ],
   "source": [
    "reuters_loss = reuters_model_history.history['loss']\n",
    "reuters_val_loss = reuters_model_history.history['val_loss']\n",
    "\n",
    "reuters_epochs = range(1, len(reuters_loss) + 1)\n",
    "\n",
    "plt.plot(reuters_epochs, reuters_loss, 'bo', label = 'Training loss')\n",
    "plt.plot(reuters_epochs, reuters_val_loss, 'b', label = 'Validation loss')\n",
    "plt.title('Training and validation loss')\n",
    "plt.xlabel('Epochs')\n",
    "plt.ylabel('Loss')\n",
    "plt.legend()\n",
    "\n",
    "plt.show()"
   ]
  },
  {
   "cell_type": "code",
   "execution_count": 28,
   "metadata": {},
   "outputs": [
    {
     "data": {
      "image/png": "[encoded data removed]",
      "text/plain": [
       "<Figure size 432x288 with 1 Axes>"
      ]
     },
     "metadata": {
      "needs_background": "light"
     },
     "output_type": "display_data"
    }
   ],
   "source": [
    "reuters_acc = reuters_model_history.history['accuracy']\n",
    "reuters_val_acc = reuters_model_history.history['val_accuracy']\n",
    "\n",
    "plt.plot(reuters_epochs, reuters_acc, 'bo', label = 'Training acc')\n",
    "plt.plot(reuters_epochs, reuters_val_acc, 'b', label = 'Validation acc')\n",
    "plt.title('Training and validation accuracy')\n",
    "plt.xlabel('Epochs')\n",
    "plt.ylabel('Loss')\n",
    "plt.legend()\n",
    "\n",
    "plt.show()"
   ]
  },
  {
   "cell_type": "code",
   "execution_count": null,
   "metadata": {},
   "outputs": [],
   "source": []
  }
 ],
 "metadata": {
  "kernelspec": {
   "display_name": "conda_amazonei_tensorflow2_p27",
   "language": "python",
   "name": "conda_amazonei_tensorflow2_p27"
  },
  "language_info": {
   "codemirror_mode": {
    "name": "ipython",
    "version": 2
   },
   "file_extension": ".py",
   "mimetype": "text/x-python",
   "name": "python",
   "nbconvert_exporter": "python",
   "pygments_lexer": "ipython2",
   "version": "2.7.16"
  }
 },
 "nbformat": 4,
 "nbformat_minor": 4
}
