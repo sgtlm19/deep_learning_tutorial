{
 "cells": [
  {
   "cell_type": "code",
   "execution_count": 1,
   "metadata": {},
   "outputs": [
    {
     "name": "stderr",
     "output_type": "stream",
     "text": [
      "Using TensorFlow backend.\n"
     ]
    }
   ],
   "source": [
    "from keras.datasets import imdb\n",
    "\n",
    "(train_data, train_labels), (test_data, test_labels) = imdb.load_data(num_words = 10000)"
   ]
  },
  {
   "cell_type": "code",
   "execution_count": 2,
   "metadata": {},
   "outputs": [
    {
     "data": {
      "text/plain": [
       "[1, 14, 22, 16, 43, 530, 973, 1622, 1385, 65]"
      ]
     },
     "execution_count": 2,
     "metadata": {},
     "output_type": "execute_result"
    }
   ],
   "source": [
    "train_data[0][:10]"
   ]
  },
  {
   "cell_type": "code",
   "execution_count": 3,
   "metadata": {},
   "outputs": [
    {
     "data": {
      "text/plain": [
       "1"
      ]
     },
     "execution_count": 3,
     "metadata": {},
     "output_type": "execute_result"
    }
   ],
   "source": [
    "train_labels[0]"
   ]
  },
  {
   "cell_type": "code",
   "execution_count": 8,
   "metadata": {},
   "outputs": [],
   "source": [
    "import numpy as np\n",
    "\n",
    "def vectorize_sequence(sequence, dimension=10000):\n",
    "    results = np.zeros((len(sequence), dimension))\n",
    "    for i, sequence in enumerate(sequence):\n",
    "        results[i, sequence] = 1\n",
    "    return results\n",
    "\n",
    "x_train = vectorize_sequence(train_data)\n",
    "x_test = vectorize_sequence(test_data)"
   ]
  },
  {
   "cell_type": "code",
   "execution_count": 10,
   "metadata": {},
   "outputs": [],
   "source": [
    "y_train = np.asarray(train_labels).astype('float32')\n",
    "y_test = np.asarray(test_labels).astype('float32')"
   ]
  },
  {
   "cell_type": "code",
   "execution_count": 13,
   "metadata": {},
   "outputs": [],
   "source": [
    "from keras import models\n",
    "from keras import layers\n",
    "\n",
    "model = models.Sequential()\n",
    "model.add(layers.Dense(16, activation='relu', input_shape=(10000,)))\n",
    "model.add(layers.Dense(16, activation='relu'))\n",
    "model.add(layers.Dense(1, activation='sigmoid'))"
   ]
  },
  {
   "cell_type": "code",
   "execution_count": 14,
   "metadata": {},
   "outputs": [],
   "source": [
    "model.compile(optimizer='rmsprop',\n",
    "              loss='binary_crossentropy',\n",
    "              metrics=['accuracy'])"
   ]
  },
  {
   "cell_type": "code",
   "execution_count": 15,
   "metadata": {},
   "outputs": [],
   "source": [
    "from keras import optimizers\n",
    "\n",
    "model.compile(optimizer=optimizers.RMSprop(lr=0.001),\n",
    "              loss='binary_crossentropy',\n",
    "              metrics=['accuracy'])"
   ]
  },
  {
   "cell_type": "code",
   "execution_count": 16,
   "metadata": {},
   "outputs": [],
   "source": [
    "x_val = x_train[:10000]\n",
    "partial_x_train = x_train[10000:]\n",
    "\n",
    "y_val = y_train[:10000]\n",
    "partial_y_train = y_train[10000:]"
   ]
  },
  {
   "cell_type": "code",
   "execution_count": 18,
   "metadata": {},
   "outputs": [
    {
     "name": "stdout",
     "output_type": "stream",
     "text": [
      "Train on 15000 samples, validate on 10000 samples\n",
      "Epoch 1/20\n",
      "15000/15000 [==============================] - 3s 221us/step - loss: 0.5231 - accuracy: 0.7901 - val_loss: 0.3921 - val_accuracy: 0.8665\n",
      "Epoch 2/20\n",
      "15000/15000 [==============================] - 2s 100us/step - loss: 0.3072 - accuracy: 0.9053 - val_loss: 0.3066 - val_accuracy: 0.8857\n",
      "Epoch 3/20\n",
      "15000/15000 [==============================] - 1s 100us/step - loss: 0.2248 - accuracy: 0.9263 - val_loss: 0.2889 - val_accuracy: 0.8847\n",
      "Epoch 4/20\n",
      "15000/15000 [==============================] - 2s 101us/step - loss: 0.1739 - accuracy: 0.9452 - val_loss: 0.2784 - val_accuracy: 0.8884\n",
      "Epoch 5/20\n",
      "15000/15000 [==============================] - 2s 100us/step - loss: 0.1428 - accuracy: 0.9554 - val_loss: 0.2901 - val_accuracy: 0.8867\n",
      "Epoch 6/20\n",
      "15000/15000 [==============================] - 2s 101us/step - loss: 0.1160 - accuracy: 0.9642 - val_loss: 0.3397 - val_accuracy: 0.8750\n",
      "Epoch 7/20\n",
      "15000/15000 [==============================] - 1s 99us/step - loss: 0.0953 - accuracy: 0.9721 - val_loss: 0.3095 - val_accuracy: 0.8830\n",
      "Epoch 8/20\n",
      "15000/15000 [==============================] - 1s 100us/step - loss: 0.0782 - accuracy: 0.9777 - val_loss: 0.3480 - val_accuracy: 0.8805\n",
      "Epoch 9/20\n",
      "15000/15000 [==============================] - 1s 100us/step - loss: 0.0635 - accuracy: 0.9835 - val_loss: 0.3570 - val_accuracy: 0.8795\n",
      "Epoch 10/20\n",
      "15000/15000 [==============================] - 1s 99us/step - loss: 0.0522 - accuracy: 0.9867 - val_loss: 0.3829 - val_accuracy: 0.8796\n",
      "Epoch 11/20\n",
      "15000/15000 [==============================] - 1s 99us/step - loss: 0.0414 - accuracy: 0.9905 - val_loss: 0.4274 - val_accuracy: 0.8766\n",
      "Epoch 12/20\n",
      "15000/15000 [==============================] - 1s 99us/step - loss: 0.0311 - accuracy: 0.9937 - val_loss: 0.4560 - val_accuracy: 0.8669\n",
      "Epoch 13/20\n",
      "15000/15000 [==============================] - 1s 100us/step - loss: 0.0232 - accuracy: 0.9958 - val_loss: 0.4809 - val_accuracy: 0.8672\n",
      "Epoch 14/20\n",
      "15000/15000 [==============================] - 2s 101us/step - loss: 0.0202 - accuracy: 0.9959 - val_loss: 0.5083 - val_accuracy: 0.8739\n",
      "Epoch 15/20\n",
      "15000/15000 [==============================] - 2s 100us/step - loss: 0.0150 - accuracy: 0.9979 - val_loss: 0.5390 - val_accuracy: 0.8719\n",
      "Epoch 16/20\n",
      "15000/15000 [==============================] - 2s 101us/step - loss: 0.0127 - accuracy: 0.9977 - val_loss: 0.5713 - val_accuracy: 0.8706\n",
      "Epoch 17/20\n",
      "15000/15000 [==============================] - 2s 101us/step - loss: 0.0088 - accuracy: 0.9992 - val_loss: 0.6038 - val_accuracy: 0.8691\n",
      "Epoch 18/20\n",
      "15000/15000 [==============================] - 1s 100us/step - loss: 0.0058 - accuracy: 0.9997 - val_loss: 0.6978 - val_accuracy: 0.8653\n",
      "Epoch 19/20\n",
      "15000/15000 [==============================] - 2s 101us/step - loss: 0.0039 - accuracy: 0.9999 - val_loss: 0.6825 - val_accuracy: 0.8688\n",
      "Epoch 20/20\n",
      "15000/15000 [==============================] - 2s 100us/step - loss: 0.0058 - accuracy: 0.9991 - val_loss: 0.7070 - val_accuracy: 0.8668\n"
     ]
    }
   ],
   "source": [
    "history = model.fit(partial_x_train,\n",
    "                    partial_y_train,\n",
    "                    epochs=20,\n",
    "                    batch_size=512,\n",
    "                    validation_data=(x_val, y_val))"
   ]
  },
  {
   "cell_type": "code",
   "execution_count": 23,
   "metadata": {},
   "outputs": [
    {
     "data": {
      "image/png": "[encoded data removed]",
      "text/plain": [
       "<Figure size 432x288 with 1 Axes>"
      ]
     },
     "metadata": {
      "needs_background": "light"
     },
     "output_type": "display_data"
    }
   ],
   "source": [
    "import matplotlib.pyplot as plt\n",
    "\n",
    "history_dict = history.history\n",
    "loss_values = history_dict['loss']\n",
    "val_loss_values = history_dict['val_loss']\n",
    "acc = history_dict['accuracy']\n",
    "\n",
    "epochs = range(1, len(acc) + 1)\n",
    "\n",
    "plt.plot(epochs, loss_values, 'bo', label='Training loss')\n",
    "plt.plot(epochs, val_loss_values, 'b', label='Validation loss')\n",
    "plt.title('Training and validation loss')\n",
    "plt.xlabel('Epochs')\n",
    "plt.ylabel('Loss')\n",
    "plt.legend()\n",
    "\n",
    "plt.show()"
   ]
  },
  {
   "cell_type": "code",
   "execution_count": 24,
   "metadata": {},
   "outputs": [
    {
     "data": {
      "text/plain": [
       "['loss', 'val_accuracy', 'val_loss', 'accuracy']"
      ]
     },
     "execution_count": 24,
     "metadata": {},
     "output_type": "execute_result"
    }
   ],
   "source": [
    "history_dict.keys()"
   ]
  },
  {
   "cell_type": "code",
   "execution_count": null,
   "metadata": {},
   "outputs": [],
   "source": [
    "vall_acc_values = history_dict['val_acc']\n",
    "\n",
    "plt.plot(epochs, acc, 'bo', label='Training acc')\n",
    "plt.plot(epochs, val_acc, 'b', label='Validation acc')\n",
    "plt.title('Training and validation accuracy')\n",
    "plt.xlabel('Epochs')\n",
    "plt.ylabel('Loss')\n",
    "plt.legend()\n"
   ]
  }
 ],
 "metadata": {
  "kernelspec": {
   "display_name": "conda_amazonei_tensorflow2_p27",
   "language": "python",
   "name": "conda_amazonei_tensorflow2_p27"
  },
  "language_info": {
   "codemirror_mode": {
    "name": "ipython",
    "version": 2
   },
   "file_extension": ".py",
   "mimetype": "text/x-python",
   "name": "python",
   "nbconvert_exporter": "python",
   "pygments_lexer": "ipython2",
   "version": "2.7.16"
  }
 },
 "nbformat": 4,
 "nbformat_minor": 4
}
