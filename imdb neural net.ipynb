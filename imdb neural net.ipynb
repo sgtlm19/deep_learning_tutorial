{
 "cells": [
  {
   "cell_type": "code",
   "execution_count": 1,
   "metadata": {},
   "outputs": [
    {
     "name": "stderr",
     "output_type": "stream",
     "text": [
      "Using TensorFlow backend.\n"
     ]
    },
    {
     "name": "stdout",
     "output_type": "stream",
     "text": [
      "Downloading data from https://s3.amazonaws.com/text-datasets/imdb.npz\n",
      "17465344/17464789 [==============================] - 0s 0us/step\n",
      "17473536/17464789 [==============================] - 0s 0us/step\n"
     ]
    }
   ],
   "source": [
    "from keras.datasets import imdb\n",
    "\n",
    "(train_data, train_labels), (test_data, test_labels) = imdb.load_data(num_words = 10000)"
   ]
  },
  {
   "cell_type": "code",
   "execution_count": 2,
   "metadata": {},
   "outputs": [
    {
     "data": {
      "text/plain": [
       "[1, 14, 22, 16, 43, 530, 973, 1622, 1385, 65]"
      ]
     },
     "execution_count": 2,
     "metadata": {},
     "output_type": "execute_result"
    }
   ],
   "source": [
    "train_data[0][:10]"
   ]
  },
  {
   "cell_type": "code",
   "execution_count": 3,
   "metadata": {},
   "outputs": [
    {
     "data": {
      "text/plain": [
       "1"
      ]
     },
     "execution_count": 3,
     "metadata": {},
     "output_type": "execute_result"
    }
   ],
   "source": [
    "train_labels[0]"
   ]
  },
  {
   "cell_type": "code",
   "execution_count": 4,
   "metadata": {},
   "outputs": [],
   "source": [
    "import numpy as np\n",
    "\n",
    "def vectorize_sequence(sequence, dimension=10000):\n",
    "    results = np.zeros((len(sequence), dimension))\n",
    "    for i, sequence in enumerate(sequence):\n",
    "        results[i, sequence] = 1\n",
    "    return results\n",
    "\n",
    "x_train = vectorize_sequence(train_data)\n",
    "x_test = vectorize_sequence(test_data)"
   ]
  },
  {
   "cell_type": "code",
   "execution_count": 5,
   "metadata": {},
   "outputs": [],
   "source": [
    "y_train = np.asarray(train_labels).astype('float32')\n",
    "y_test = np.asarray(test_labels).astype('float32')"
   ]
  },
  {
   "cell_type": "code",
   "execution_count": 6,
   "metadata": {},
   "outputs": [],
   "source": [
    "from keras import models\n",
    "from keras import layers\n",
    "\n",
    "model = models.Sequential()\n",
    "model.add(layers.Dense(16, activation='relu', input_shape=(10000,)))\n",
    "model.add(layers.Dense(16, activation='relu'))\n",
    "model.add(layers.Dense(1, activation='sigmoid'))"
   ]
  },
  {
   "cell_type": "code",
   "execution_count": 7,
   "metadata": {},
   "outputs": [],
   "source": [
    "model.compile(optimizer='rmsprop',\n",
    "              loss='binary_crossentropy',\n",
    "              metrics=['accuracy'])"
   ]
  },
  {
   "cell_type": "code",
   "execution_count": 8,
   "metadata": {},
   "outputs": [],
   "source": [
    "from keras import optimizers\n",
    "\n",
    "model.compile(optimizer=optimizers.RMSprop(lr=0.001),\n",
    "              loss='binary_crossentropy',\n",
    "              metrics=['accuracy'])"
   ]
  },
  {
   "cell_type": "code",
   "execution_count": 9,
   "metadata": {},
   "outputs": [],
   "source": [
    "x_val = x_train[:10000]\n",
    "partial_x_train = x_train[10000:]\n",
    "\n",
    "y_val = y_train[:10000]\n",
    "partial_y_train = y_train[10000:]"
   ]
  },
  {
   "cell_type": "code",
   "execution_count": 10,
   "metadata": {},
   "outputs": [
    {
     "name": "stdout",
     "output_type": "stream",
     "text": [
      "Train on 15000 samples, validate on 10000 samples\n",
      "Epoch 1/20\n",
      "15000/15000 [==============================] - 4s 235us/step - loss: 0.5415 - accuracy: 0.7686 - val_loss: 0.4099 - val_accuracy: 0.8679\n",
      "Epoch 2/20\n",
      "15000/15000 [==============================] - 2s 116us/step - loss: 0.3252 - accuracy: 0.9011 - val_loss: 0.3177 - val_accuracy: 0.8847\n",
      "Epoch 3/20\n",
      "15000/15000 [==============================] - 2s 116us/step - loss: 0.2370 - accuracy: 0.9259 - val_loss: 0.2930 - val_accuracy: 0.8869\n",
      "Epoch 4/20\n",
      "15000/15000 [==============================] - 2s 118us/step - loss: 0.1827 - accuracy: 0.9424 - val_loss: 0.2780 - val_accuracy: 0.8904\n",
      "Epoch 5/20\n",
      "15000/15000 [==============================] - 2s 116us/step - loss: 0.1473 - accuracy: 0.9551 - val_loss: 0.2796 - val_accuracy: 0.8882\n",
      "Epoch 6/20\n",
      "15000/15000 [==============================] - 2s 115us/step - loss: 0.1202 - accuracy: 0.9628 - val_loss: 0.2985 - val_accuracy: 0.8864\n",
      "Epoch 7/20\n",
      "15000/15000 [==============================] - 2s 115us/step - loss: 0.0984 - accuracy: 0.9709 - val_loss: 0.3231 - val_accuracy: 0.8782\n",
      "Epoch 8/20\n",
      "15000/15000 [==============================] - 2s 116us/step - loss: 0.0804 - accuracy: 0.9786 - val_loss: 0.3285 - val_accuracy: 0.8801\n",
      "Epoch 9/20\n",
      "15000/15000 [==============================] - 2s 116us/step - loss: 0.0658 - accuracy: 0.9839 - val_loss: 0.3552 - val_accuracy: 0.8758\n",
      "Epoch 10/20\n",
      "15000/15000 [==============================] - 2s 117us/step - loss: 0.0526 - accuracy: 0.9877 - val_loss: 0.3713 - val_accuracy: 0.8777\n",
      "Epoch 11/20\n",
      "15000/15000 [==============================] - 2s 114us/step - loss: 0.0439 - accuracy: 0.9903 - val_loss: 0.3982 - val_accuracy: 0.8741\n",
      "Epoch 12/20\n",
      "15000/15000 [==============================] - 2s 116us/step - loss: 0.0347 - accuracy: 0.9931 - val_loss: 0.4268 - val_accuracy: 0.8767\n",
      "Epoch 13/20\n",
      "15000/15000 [==============================] - 2s 115us/step - loss: 0.0264 - accuracy: 0.9958 - val_loss: 0.4522 - val_accuracy: 0.8727\n",
      "Epoch 14/20\n",
      "15000/15000 [==============================] - 2s 114us/step - loss: 0.0197 - accuracy: 0.9975 - val_loss: 0.4968 - val_accuracy: 0.8735\n",
      "Epoch 15/20\n",
      "15000/15000 [==============================] - 2s 117us/step - loss: 0.0191 - accuracy: 0.9965 - val_loss: 0.5262 - val_accuracy: 0.8712\n",
      "Epoch 16/20\n",
      "15000/15000 [==============================] - 2s 115us/step - loss: 0.0105 - accuracy: 0.9990 - val_loss: 0.5564 - val_accuracy: 0.8706\n",
      "Epoch 17/20\n",
      "15000/15000 [==============================] - 2s 116us/step - loss: 0.0126 - accuracy: 0.9980 - val_loss: 0.5960 - val_accuracy: 0.8702\n",
      "Epoch 18/20\n",
      "15000/15000 [==============================] - 2s 117us/step - loss: 0.0063 - accuracy: 0.9995 - val_loss: 0.8808 - val_accuracy: 0.8412\n",
      "Epoch 19/20\n",
      "15000/15000 [==============================] - 2s 116us/step - loss: 0.0075 - accuracy: 0.9987 - val_loss: 0.6592 - val_accuracy: 0.8693\n",
      "Epoch 20/20\n",
      "15000/15000 [==============================] - 2s 113us/step - loss: 0.0079 - accuracy: 0.9983 - val_loss: 0.6719 - val_accuracy: 0.8685\n"
     ]
    }
   ],
   "source": [
    "history = model.fit(partial_x_train,\n",
    "                    partial_y_train,\n",
    "                    epochs=20,\n",
    "                    batch_size=512,\n",
    "                    validation_data=(x_val, y_val))"
   ]
  },
  {
   "cell_type": "code",
   "execution_count": 12,
   "metadata": {},
   "outputs": [
    {
     "data": {
      "image/png": "[encoded data removed]",
      "text/plain": [
       "<Figure size 432x288 with 1 Axes>"
      ]
     },
     "metadata": {
      "needs_background": "light"
     },
     "output_type": "display_data"
    }
   ],
   "source": [
    "import matplotlib.pyplot as plt\n",
    "\n",
    "history_dict = history.history\n",
    "loss_values = history_dict['loss']\n",
    "val_loss_values = history_dict['val_loss']\n",
    "acc = history_dict['accuracy']\n",
    "\n",
    "epochs = range(1, len(acc) + 1)\n",
    "\n",
    "plt.plot(epochs, loss_values, 'bo', label='Training loss')\n",
    "plt.plot(epochs, val_loss_values, 'b', label='Validation loss')\n",
    "plt.title('Training and validation loss')\n",
    "plt.xlabel('Epochs')\n",
    "plt.ylabel('Loss')\n",
    "plt.legend()\n",
    "\n",
    "plt.show()"
   ]
  },
  {
   "cell_type": "code",
   "execution_count": 13,
   "metadata": {},
   "outputs": [
    {
     "data": {
      "text/plain": [
       "['loss', 'val_accuracy', 'val_loss', 'accuracy']"
      ]
     },
     "execution_count": 13,
     "metadata": {},
     "output_type": "execute_result"
    }
   ],
   "source": [
    "history_dict.keys()"
   ]
  },
  {
   "cell_type": "code",
   "execution_count": 18,
   "metadata": {},
   "outputs": [
    {
     "data": {
      "image/png": "[encoded data removed]",
      "text/plain": [
       "<Figure size 432x288 with 1 Axes>"
      ]
     },
     "metadata": {
      "needs_background": "light"
     },
     "output_type": "display_data"
    }
   ],
   "source": [
    "val_acc_values = history_dict['val_accuracy']\n",
    "\n",
    "plt.plot(epochs, acc, 'bo', label='Training acc')\n",
    "plt.plot(epochs, val_acc_values, 'b', label='Validation acc')\n",
    "plt.title('Training and validation accuracy')\n",
    "plt.xlabel('Epochs')\n",
    "plt.ylabel('Loss')\n",
    "plt.legend()\n",
    "\n",
    "plt.show()"
   ]
  },
  {
   "cell_type": "code",
   "execution_count": 19,
   "metadata": {},
   "outputs": [
    {
     "name": "stdout",
     "output_type": "stream",
     "text": [
      "Downloading data from https://s3.amazonaws.com/text-datasets/reuters.npz\n",
      "2113536/2110848 [==============================] - 0s 0us/step\n",
      "2121728/2110848 [==============================] - 0s 0us/step\n"
     ]
    }
   ],
   "source": [
    "from keras.datasets import reuters\n",
    "\n",
    "(reuters_train_data, reuters_train_labels), (reuters_test_data, reuters_test_labels) = reuters.load_data(num_words=10000)\n",
    "\n"
   ]
  },
  {
   "cell_type": "code",
   "execution_count": 20,
   "metadata": {},
   "outputs": [
    {
     "name": "stdout",
     "output_type": "stream",
     "text": [
      "8982\n",
      "2246\n"
     ]
    }
   ],
   "source": [
    "print(len(reuters_train_data))\n",
    "print(len(reuters_test_data))"
   ]
  },
  {
   "cell_type": "code",
   "execution_count": 23,
   "metadata": {},
   "outputs": [
    {
     "data": {
      "text/plain": [
       "[1, 2, 2, 8, 43, 10, 447, 5, 25, 207]"
      ]
     },
     "execution_count": 23,
     "metadata": {},
     "output_type": "execute_result"
    }
   ],
   "source": [
    "reuters_train_data[0][:10]"
   ]
  },
  {
   "cell_type": "code",
   "execution_count": 25,
   "metadata": {},
   "outputs": [],
   "source": [
    "reuters_x_train = vectorize_sequence(reuters_train_data)\n",
    "reuters_x_test = vectorize_sequence(reuters_test_data)"
   ]
  },
  {
   "cell_type": "code",
   "execution_count": 27,
   "metadata": {},
   "outputs": [],
   "source": [
    "def to_one_hot(labels, dimension=64):\n",
    "    results = np.zeros((len(labels), dimension))\n",
    "    for i, label in enumerate(labels):\n",
    "        results[i, label] = 1\n",
    "    return results\n",
    "\n",
    "one_hot_train_reuters_labels = to_one_hot(reuters_train_labels)\n",
    "on_hot_test_reuters_labels = to_one_hot(reuters_test_labels)"
   ]
  },
  {
   "cell_type": "code",
   "execution_count": null,
   "metadata": {},
   "outputs": [],
   "source": [
    "reuters_model = models.Sequential()\n",
    "reuters_model.add(layers.Dense(64, activation='relu', input_shape=(10000, )))\n"
   ]
  }
 ],
 "metadata": {
  "kernelspec": {
   "display_name": "conda_amazonei_tensorflow2_p27",
   "language": "python",
   "name": "conda_amazonei_tensorflow2_p27"
  },
  "language_info": {
   "codemirror_mode": {
    "name": "ipython",
    "version": 2
   },
   "file_extension": ".py",
   "mimetype": "text/x-python",
   "name": "python",
   "nbconvert_exporter": "python",
   "pygments_lexer": "ipython2",
   "version": "2.7.16"
  }
 },
 "nbformat": 4,
 "nbformat_minor": 4
}
